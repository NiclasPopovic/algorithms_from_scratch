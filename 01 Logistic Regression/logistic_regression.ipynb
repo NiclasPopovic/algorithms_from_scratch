{
 "cells": [
  {
   "cell_type": "markdown",
   "id": "f789ff13-f48a-4d62-ab43-b58a783a613e",
   "metadata": {},
   "source": [
    "## Logistic Regression from Scratch"
   ]
  },
  {
   "cell_type": "code",
   "execution_count": null,
   "id": "f2d964b1-24a4-4496-8fa9-23d78ef94295",
   "metadata": {},
   "outputs": [],
   "source": [
    "import pandas as pd\n",
    "import numpy as np"
   ]
  },
  {
   "cell_type": "code",
   "execution_count": 147,
   "id": "5708476e-323c-4f58-b5e3-41f06be67738",
   "metadata": {},
   "outputs": [],
   "source": [
    "class LogisticRegression:\n",
    "\n",
    "    def __init__(self, num_iters, learning_rate, tolerance = 1e-6):\n",
    "        self.num_iters = num_iters\n",
    "        self.learning_rate = learning_rate\n",
    "        self.tolerance = tolerance\n",
    "\n",
    "    def log_likelihood(self, y, preds):\n",
    "        return np.sum(y * np.log(preds) + (1 - y) * np.log(1 - preds))\n",
    "        \n",
    "    def fit(self, X, y):\n",
    "        # Initialize some weights\n",
    "        # Typically, initialization can be either 0's or mean's or random values\n",
    "        \n",
    "        self.weights = np.zeros(X.shape[1])\n",
    "\n",
    "        # Compute the initial predictions\n",
    "        preds = self.predict(X)\n",
    "\n",
    "        # Compute initial loss\n",
    "        current_loss = -self.log_likelihood(y, preds)\n",
    "        prev_loss = float('inf')\n",
    "        \n",
    "        # Update the weights\n",
    "        for steps in range(0, self.num_iters):\n",
    "            dB = np.dot(X.T, (preds - y)) / y.size\n",
    "\n",
    "            self.weights -= self.learning_rate * dB \n",
    "            print(self.weights)\n",
    "            # Re-compute the loss\n",
    "            preds = self.predict(X)\n",
    "            new_loss = self.log_likelihood(y, preds)\n",
    "\n",
    "            if abs(prev_loss - current_loss) < self.tolerance:\n",
    "                break\n",
    "            \n",
    "            prev_loss = current_loss\n",
    "\n",
    "\n",
    "    def predict(self, X):\n",
    "        # Sigmoid function: 1/(1+e^-z)\n",
    "        \n",
    "        z = np.dot(X, self.weights)\n",
    "        preds = 1/(1 + np.exp(-z))\n",
    "        return preds\n",
    "        \n",
    "    "
   ]
  },
  {
   "cell_type": "code",
   "execution_count": 163,
   "id": "d0f7ad8a-a344-46a8-bb3e-e8dd90dc790d",
   "metadata": {},
   "outputs": [],
   "source": [
    "X_train = np.array([[1,2], [3,4], [5,6], [8, 8]])\n",
    "y_train = np.array([1, 0, 1])\n",
    "\n",
    "X_test = np.array([[5,3], [3,2], [5,9]])\n",
    "y_test = np.array([1,0,0])"
   ]
  },
  {
   "cell_type": "code",
   "execution_count": 164,
   "id": "8b074a4d-06af-4c9f-aa31-b70ee9c3de9a",
   "metadata": {},
   "outputs": [],
   "source": [
    "model = LogisticRegression(num_iters = 100, learning_rate= 0.02)"
   ]
  },
  {
   "cell_type": "code",
   "execution_count": 165,
   "id": "4b75c003-1a6b-4d60-8382-95ef32b97d12",
   "metadata": {},
   "outputs": [
    {
     "ename": "ValueError",
     "evalue": "operands could not be broadcast together with shapes (3,) (4,) ",
     "output_type": "error",
     "traceback": [
      "\u001b[0;31m---------------------------------------------------------------------------\u001b[0m",
      "\u001b[0;31mValueError\u001b[0m                                Traceback (most recent call last)",
      "Cell \u001b[0;32mIn[165], line 1\u001b[0m\n\u001b[0;32m----> 1\u001b[0m \u001b[43mmodel\u001b[49m\u001b[38;5;241;43m.\u001b[39;49m\u001b[43mfit\u001b[49m\u001b[43m(\u001b[49m\u001b[43mX_train\u001b[49m\u001b[43m,\u001b[49m\u001b[43m \u001b[49m\u001b[43my_train\u001b[49m\u001b[43m)\u001b[49m\n",
      "Cell \u001b[0;32mIn[147], line 21\u001b[0m, in \u001b[0;36mLogisticRegression.fit\u001b[0;34m(self, X, y)\u001b[0m\n\u001b[1;32m     18\u001b[0m preds \u001b[38;5;241m=\u001b[39m \u001b[38;5;28mself\u001b[39m\u001b[38;5;241m.\u001b[39mpredict(X)\n\u001b[1;32m     20\u001b[0m \u001b[38;5;66;03m# Compute initial loss\u001b[39;00m\n\u001b[0;32m---> 21\u001b[0m current_loss \u001b[38;5;241m=\u001b[39m \u001b[38;5;241m-\u001b[39m\u001b[38;5;28;43mself\u001b[39;49m\u001b[38;5;241;43m.\u001b[39;49m\u001b[43mlog_likelihood\u001b[49m\u001b[43m(\u001b[49m\u001b[43my\u001b[49m\u001b[43m,\u001b[49m\u001b[43m \u001b[49m\u001b[43mpreds\u001b[49m\u001b[43m)\u001b[49m\n\u001b[1;32m     22\u001b[0m prev_loss \u001b[38;5;241m=\u001b[39m \u001b[38;5;28mfloat\u001b[39m(\u001b[38;5;124m'\u001b[39m\u001b[38;5;124minf\u001b[39m\u001b[38;5;124m'\u001b[39m)\n\u001b[1;32m     24\u001b[0m \u001b[38;5;66;03m# Update the weights\u001b[39;00m\n",
      "Cell \u001b[0;32mIn[147], line 9\u001b[0m, in \u001b[0;36mLogisticRegression.log_likelihood\u001b[0;34m(self, y, preds)\u001b[0m\n\u001b[1;32m      8\u001b[0m \u001b[38;5;28;01mdef\u001b[39;00m \u001b[38;5;21mlog_likelihood\u001b[39m(\u001b[38;5;28mself\u001b[39m, y, preds):\n\u001b[0;32m----> 9\u001b[0m     \u001b[38;5;28;01mreturn\u001b[39;00m np\u001b[38;5;241m.\u001b[39msum(\u001b[43my\u001b[49m\u001b[43m \u001b[49m\u001b[38;5;241;43m*\u001b[39;49m\u001b[43m \u001b[49m\u001b[43mnp\u001b[49m\u001b[38;5;241;43m.\u001b[39;49m\u001b[43mlog\u001b[49m\u001b[43m(\u001b[49m\u001b[43mpreds\u001b[49m\u001b[43m)\u001b[49m \u001b[38;5;241m+\u001b[39m (\u001b[38;5;241m1\u001b[39m \u001b[38;5;241m-\u001b[39m y) \u001b[38;5;241m*\u001b[39m np\u001b[38;5;241m.\u001b[39mlog(\u001b[38;5;241m1\u001b[39m \u001b[38;5;241m-\u001b[39m preds))\n",
      "\u001b[0;31mValueError\u001b[0m: operands could not be broadcast together with shapes (3,) (4,) "
     ]
    }
   ],
   "source": [
    "model.fit(X_train, y_train)"
   ]
  },
  {
   "cell_type": "code",
   "execution_count": 166,
   "id": "99a0613b-d6aa-4cac-8c5f-44259bc51dcf",
   "metadata": {},
   "outputs": [
    {
     "data": {
      "text/plain": [
       "array([0.5, 0.5, 0.5])"
      ]
     },
     "execution_count": 166,
     "metadata": {},
     "output_type": "execute_result"
    }
   ],
   "source": [
    "model.predict(X_test)"
   ]
  },
  {
   "cell_type": "code",
   "execution_count": 167,
   "id": "05fd69b2-e8b1-4ac7-845d-0c5f048992f1",
   "metadata": {},
   "outputs": [
    {
     "data": {
      "text/html": [
       "<div>\n",
       "<style scoped>\n",
       "    .dataframe tbody tr th:only-of-type {\n",
       "        vertical-align: middle;\n",
       "    }\n",
       "\n",
       "    .dataframe tbody tr th {\n",
       "        vertical-align: top;\n",
       "    }\n",
       "\n",
       "    .dataframe thead th {\n",
       "        text-align: right;\n",
       "    }\n",
       "</style>\n",
       "<table border=\"1\" class=\"dataframe\">\n",
       "  <thead>\n",
       "    <tr style=\"text-align: right;\">\n",
       "      <th></th>\n",
       "      <th>0</th>\n",
       "      <th>1</th>\n",
       "    </tr>\n",
       "  </thead>\n",
       "  <tbody>\n",
       "    <tr>\n",
       "      <th>0</th>\n",
       "      <td>1</td>\n",
       "      <td>2</td>\n",
       "    </tr>\n",
       "    <tr>\n",
       "      <th>1</th>\n",
       "      <td>3</td>\n",
       "      <td>4</td>\n",
       "    </tr>\n",
       "    <tr>\n",
       "      <th>2</th>\n",
       "      <td>5</td>\n",
       "      <td>6</td>\n",
       "    </tr>\n",
       "    <tr>\n",
       "      <th>3</th>\n",
       "      <td>8</td>\n",
       "      <td>8</td>\n",
       "    </tr>\n",
       "  </tbody>\n",
       "</table>\n",
       "</div>"
      ],
      "text/plain": [
       "   0  1\n",
       "0  1  2\n",
       "1  3  4\n",
       "2  5  6\n",
       "3  8  8"
      ]
     },
     "execution_count": 167,
     "metadata": {},
     "output_type": "execute_result"
    }
   ],
   "source": [
    "pd.DataFrame(X_train)"
   ]
  },
  {
   "cell_type": "code",
   "execution_count": null,
   "id": "adb7aa97-97bd-47fc-a4d0-83f18cefd339",
   "metadata": {},
   "outputs": [],
   "source": []
  }
 ],
 "metadata": {
  "kernelspec": {
   "display_name": "kaggle",
   "language": "python",
   "name": "kaggle"
  },
  "language_info": {
   "codemirror_mode": {
    "name": "ipython",
    "version": 3
   },
   "file_extension": ".py",
   "mimetype": "text/x-python",
   "name": "python",
   "nbconvert_exporter": "python",
   "pygments_lexer": "ipython3",
   "version": "3.12.0"
  }
 },
 "nbformat": 4,
 "nbformat_minor": 5
}
